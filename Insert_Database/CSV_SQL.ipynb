{
 "cells": [
  {
   "cell_type": "markdown",
   "metadata": {},
   "source": [
    "# Create Database"
   ]
  },
  {
   "cell_type": "code",
   "execution_count": null,
   "metadata": {},
   "outputs": [],
   "source": [
    "import mysql.connector\n",
    "connection = mysql.connector.connect(\n",
    "    host=\"localhost\",\n",
    "    user=\"root\",\n",
    "    password=\"root\"\n",
    ")\n",
    "cursor = connection.cursor()\n",
    "create_database_query = f\"CREATE DATABASE {'Fake_news_analysis'}\"\n",
    "cursor.execute(create_database_query)\n",
    "\n",
    "connection.commit()\n",
    "cursor.close()\n",
    "connection.close()\n"
   ]
  },
  {
   "cell_type": "markdown",
   "metadata": {},
   "source": [
    "# Admin"
   ]
  },
  {
   "cell_type": "markdown",
   "metadata": {},
   "source": [
    "create admin table"
   ]
  },
  {
   "cell_type": "code",
   "execution_count": 1,
   "metadata": {},
   "outputs": [],
   "source": [
    "import mysql.connector\n",
    "\n",
    "def create_admin_table():\n",
    "    conn = mysql.connector.connect(\n",
    "        host=\"localhost\",\n",
    "        user=\"root\",\n",
    "        password=\"root\",\n",
    "        database=\"Fake_news_analysis\"\n",
    "    )\n",
    "    cursor = conn.cursor()\n",
    "\n",
    "    create_query = \"\"\"\n",
    "    CREATE TABLE IF NOT EXISTS Admin (\n",
    "        Admin_ID INT AUTO_INCREMENT PRIMARY KEY,\n",
    "        Username VARCHAR(255) UNIQUE NOT NULL,\n",
    "        Password VARCHAR(255) NOT NULL\n",
    "    )\n",
    "    \"\"\"\n",
    "\n",
    "    cursor.execute(create_query)\n",
    "    conn.commit()\n",
    "    conn.close()\n",
    "\n",
    "create_admin_table()\n"
   ]
  },
  {
   "cell_type": "markdown",
   "metadata": {},
   "source": [
    "insert admin"
   ]
  },
  {
   "cell_type": "code",
   "execution_count": null,
   "metadata": {},
   "outputs": [],
   "source": [
    "import mysql.connector\n",
    "\n",
    "def insert_admin_data():\n",
    "    conn = mysql.connector.connect(\n",
    "        host=\"localhost\",\n",
    "        user=\"root\",\n",
    "        password=\"root\",\n",
    "        database=\"Fake_news_analysis\"\n",
    "    )\n",
    "    cursor = conn.cursor()\n",
    "\n",
    "    insert_query = \"\"\"\n",
    "    INSERT INTO Admin (Username, Password) VALUES ('Filbert1', '101'), ('Filbert2', '102')\n",
    "    \"\"\"\n",
    "\n",
    "    cursor.execute(insert_query)\n",
    "    conn.commit()\n",
    "    conn.close()\n",
    "\n",
    "insert_admin_data()\n"
   ]
  },
  {
   "cell_type": "markdown",
   "metadata": {},
   "source": [
    "# News"
   ]
  },
  {
   "cell_type": "markdown",
   "metadata": {},
   "source": [
    "Drop table if exists"
   ]
  },
  {
   "cell_type": "code",
   "execution_count": 1,
   "metadata": {},
   "outputs": [],
   "source": [
    "import mysql.connector\n",
    "\n",
    "conn = mysql.connector.connect(\n",
    "    host=\"localhost\",\n",
    "    user=\"root\",\n",
    "    password=\"root\",\n",
    "    database=\"Fake_news_analysis\"\n",
    ")\n",
    "cursor = conn.cursor()\n",
    "\n",
    "# Drop table\n",
    "drop_query = \"DROP TABLE IF EXISTS Analysis\"\n",
    "drop_query2 = \"DROP TABLE IF EXISTS News\"\n",
    "\n",
    "cursor.execute(drop_query)\n",
    "cursor.execute(drop_query2)\n",
    "conn.commit()\n",
    "conn.close()"
   ]
  },
  {
   "cell_type": "markdown",
   "metadata": {},
   "source": [
    "create news table"
   ]
  },
  {
   "cell_type": "code",
   "execution_count": null,
   "metadata": {},
   "outputs": [],
   "source": [
    "import mysql.connector\n",
    "\n",
    "def create_news_table():\n",
    "    conn = mysql.connector.connect(\n",
    "        host=\"localhost\",\n",
    "        user=\"root\",\n",
    "        password=\"root\",\n",
    "        database=\"Fake_news_analysis\"\n",
    "    )\n",
    "    cursor = conn.cursor()\n",
    "\n",
    "    create_query = \"\"\"\n",
    "    CREATE TABLE News (\n",
    "        News_ID INT AUTO_INCREMENT PRIMARY KEY,\n",
    "        News_Title VARCHAR(255) NOT NULL,\n",
    "        News_Text LONGTEXT NOT NULL,\n",
    "        Date_Added TIMESTAMP DEFAULT CURRENT_TIMESTAMP\n",
    "    )\n",
    "    \"\"\"\n",
    "\n",
    "    cursor.execute(create_query)\n",
    "    conn.commit()\n",
    "    conn.close()\n",
    "\n",
    "create_news_table()\n"
   ]
  },
  {
   "cell_type": "markdown",
   "metadata": {},
   "source": [
    "insert data from csv to db"
   ]
  },
  {
   "cell_type": "code",
   "execution_count": null,
   "metadata": {},
   "outputs": [],
   "source": [
    "import csv\n",
    "import mysql.connector\n",
    "\n",
    "def insert_data_from_csv(csv_file):\n",
    "    conn = mysql.connector.connect(\n",
    "        host=\"localhost\",\n",
    "        user=\"root\",\n",
    "        password=\"root\",\n",
    "        database=\"Fake_news_analysis\"\n",
    "    )\n",
    "    cursor = conn.cursor()\n",
    "\n",
    "    insert_query = \"INSERT INTO News (News_Title, News_Text) VALUES (%s, %s)\"\n",
    "    with open(csv_file, 'r', encoding='utf-8') as file:\n",
    "        csv_reader = csv.reader(file)\n",
    "        next(csv_reader)\n",
    "        for row in csv_reader:\n",
    "            title, text = row\n",
    "            cursor.execute(insert_query, (title, text))\n",
    "\n",
    "    conn.commit()\n",
    "    conn.close()\n",
    "\n",
    "# CSV\n",
    "# 1- 623 TRUE\n",
    "# 624-1206 FALSE\n",
    "csv_files = ['True_Database.csv', 'Fake_Database.csv']\n",
    "\n",
    "for csv_file in csv_files:\n",
    "    insert_data_from_csv(csv_file)\n"
   ]
  },
  {
   "cell_type": "markdown",
   "metadata": {},
   "source": [
    "# ANALYSIS"
   ]
  },
  {
   "cell_type": "markdown",
   "metadata": {},
   "source": [
    "create analysis table"
   ]
  },
  {
   "cell_type": "code",
   "execution_count": null,
   "metadata": {},
   "outputs": [],
   "source": [
    "import mysql.connector\n",
    "\n",
    "def create_analysis_table():\n",
    "    conn = mysql.connector.connect(\n",
    "        host=\"localhost\",\n",
    "        user=\"root\",\n",
    "        password=\"root\",\n",
    "        database=\"Fake_news_analysis\"\n",
    "    )\n",
    "    cursor = conn.cursor()\n",
    "\n",
    "    create_query = \"\"\"\n",
    "    CREATE TABLE IF NOT EXISTS Analysis (\n",
    "        Analysis_ID INT AUTO_INCREMENT PRIMARY KEY,\n",
    "        News_ID INT,\n",
    "        Result ENUM('Fake', 'Real') NOT NULL,\n",
    "        FOREIGN KEY (News_ID) REFERENCES News(News_ID)\n",
    "    )\n",
    "    \"\"\"\n",
    "\n",
    "    cursor.execute(create_query)\n",
    "    conn.commit()\n",
    "    conn.close()\n",
    "\n",
    "create_analysis_table()"
   ]
  },
  {
   "cell_type": "markdown",
   "metadata": {},
   "source": [
    "insert into analysis according to news table"
   ]
  },
  {
   "cell_type": "code",
   "execution_count": null,
   "metadata": {},
   "outputs": [],
   "source": [
    "import mysql.connector\n",
    "\n",
    "def insert_analysis_results():\n",
    "    conn = mysql.connector.connect(\n",
    "        host=\"localhost\",\n",
    "        user=\"root\",\n",
    "        password=\"root\",\n",
    "        database=\"Fake_news_analysis\"\n",
    "    )\n",
    "    cursor = conn.cursor()\n",
    "\n",
    "    insert_query = \"\"\"\n",
    "    INSERT INTO Analysis (News_ID, Result)\n",
    "    SELECT News_ID, 'Real'\n",
    "    FROM News\n",
    "    WHERE News_ID BETWEEN 1 AND 623\n",
    "    \"\"\"\n",
    "    insert_query2 = \"\"\"\n",
    "    INSERT INTO Analysis (News_ID, Result)\n",
    "    SELECT News_ID, 'Fake'\n",
    "    FROM News\n",
    "    WHERE News_ID BETWEEN 624 AND 1206\n",
    "    \"\"\"\n",
    "\n",
    "    cursor.execute(insert_query)\n",
    "    cursor.execute(insert_query2)\n",
    "    conn.commit()\n",
    "    conn.close()\n",
    "\n",
    "insert_analysis_results()"
   ]
  }
 ],
 "metadata": {
  "kernelspec": {
   "display_name": "Python 3",
   "language": "python",
   "name": "python3"
  },
  "language_info": {
   "codemirror_mode": {
    "name": "ipython",
    "version": 3
   },
   "file_extension": ".py",
   "mimetype": "text/x-python",
   "name": "python",
   "nbconvert_exporter": "python",
   "pygments_lexer": "ipython3",
   "version": "3.11.2"
  }
 },
 "nbformat": 4,
 "nbformat_minor": 2
}
